{
 "cells": [
  {
   "cell_type": "code",
   "execution_count": 83,
   "metadata": {},
   "outputs": [],
   "source": [
    "from bs4 import BeautifulSoup\n",
    "import requests\n",
    "import smtplib\n",
    "import time\n",
    "import datetime"
   ]
  },
  {
   "cell_type": "code",
   "execution_count": 84,
   "metadata": {},
   "outputs": [],
   "source": [
    "# Connect to Website\n",
    "\n",
    "URL ='https://www.amazon.com/Data-Analyst-Programmer-Accountant-Distressed/dp/B0C1TH5NPM/ref=sr_1_6?crid=2SS3JXI1VNL4B&dib=eyJ2IjoiMSJ9.ZppBLSWPvPm5RFqNGsT3VfhBcongUeGPvHSQerFQ0GGGVm_AIHbu8EFDvhiDL7s7vOW1asZh7VtpWg9D_i89f5yrXo_JOkDk4VBT4Xkr44ng0glqNLgpS_9GKrD8EJvb7VbnmJNnsz1lSl7e0BqXKnT4_jx3M6j7l3vupUMG_W3oAHToT3H1E2jF7tlbcFxZHprVxRQ6VzhkTNPsKF1BQ3ypCStwv1LKLXKsu5PWhkhSLHBZzX8WxIXzdKElIFtr6uHbuwf-4gttTNvsUoZ9fp2LF_n8e1VYMfYo2JwF6SA.aUcA75v_1_fZkjO2Yhd5Ross-gv8OmjDNgYdShhiZVM&dib_tag=se&keywords=data+analyst+tshirts&qid=1719577052&sprefix=data+analyst+tshirts%2Caps%2C360&sr=8-6'\n",
    "\n",
    "headers = {\"User-Agent\": \"Mozilla/5.0 (Macintosh; Intel Mac OS X 10_15_7) AppleWebKit/605.1.15 (KHTML, like Gecko) Version/17.5 Safari/605.1.15\", \"Accept-Encoding\":\"gzip, deflate, br\", \"Accept\":\"text/html,application/xhtml+xml,application/xml;q=0.9,*/*;q=0.8\", \"DNT\":\"1\",\"Connection\":\"close\", \"Upgrade-Insecure-Requests\":\"1\"}\n",
    "\n",
    "page = requests.get(URL, headers=headers)\n",
    "soup1 =BeautifulSoup(page.content, \"html.parser\")\n",
    "soup2=BeautifulSoup(soup1.prettify(),\"html.parser\")"
   ]
  },
  {
   "cell_type": "code",
   "execution_count": 85,
   "metadata": {},
   "outputs": [
    {
     "name": "stdout",
     "output_type": "stream",
     "text": [
      "\n",
      "                    Got Data? Data Analyst Programmer Accountant Distressed T-Shirt\n",
      "                   \n",
      "\n",
      "                       $17.99\n",
      "                      \n"
     ]
    }
   ],
   "source": [
    "title=soup2.find(id='productTitle').get_text()\n",
    "price=soup2.find(class_='a-offscreen').get_text()\n",
    "print(title)\n",
    "print(price)"
   ]
  },
  {
   "cell_type": "code",
   "execution_count": 86,
   "metadata": {},
   "outputs": [
    {
     "name": "stdout",
     "output_type": "stream",
     "text": [
      "Got Data? Data Analyst Programmer Accountant Distressed T-Shirt\n",
      "17.99\n"
     ]
    }
   ],
   "source": [
    "price=price.strip()[1:]\n",
    "title=title.strip()\n",
    "print(title)\n",
    "print(price)"
   ]
  },
  {
   "cell_type": "code",
   "execution_count": 87,
   "metadata": {},
   "outputs": [
    {
     "name": "stdout",
     "output_type": "stream",
     "text": [
      "2024-06-28\n"
     ]
    }
   ],
   "source": [
    "import datetime\n",
    "today = datetime.date.today()\n",
    "print(today)"
   ]
  },
  {
   "cell_type": "code",
   "execution_count": 88,
   "metadata": {},
   "outputs": [],
   "source": [
    "import csv\n",
    "header = ['Title','Price','Date']\n",
    "data = [title,price,today]\n",
    "\n",
    "#inserting data to csv\n",
    "\n",
    "with open('AmazonWebScraping.csv', 'w', newline='', encoding='UTF8') as f:\n",
    "    writer = csv.writer(f)\n",
    "    writer.writerow(header)\n",
    "    writer.writerow(data)"
   ]
  },
  {
   "cell_type": "code",
   "execution_count": 89,
   "metadata": {},
   "outputs": [
    {
     "name": "stdout",
     "output_type": "stream",
     "text": [
      "                                               Title  Price        Date\n",
      "0  Got Data? Data Analyst Programmer Accountant D...  17.99  2024-06-28\n"
     ]
    }
   ],
   "source": [
    "import pandas as pd\n",
    "df = pd.read_csv('/Users/ghudaiya/Documents/AmazonWebScraping.csv')\n",
    "print(df)"
   ]
  },
  {
   "cell_type": "code",
   "execution_count": 90,
   "metadata": {},
   "outputs": [],
   "source": [
    "def check_price():\n",
    "    URL ='https://www.amazon.com/Data-Analyst-Programmer-Accountant-Distressed/dp/B0C1TH5NPM/ref=sr_1_6?crid=2SS3JXI1VNL4B&dib=eyJ2IjoiMSJ9.ZppBLSWPvPm5RFqNGsT3VfhBcongUeGPvHSQerFQ0GGGVm_AIHbu8EFDvhiDL7s7vOW1asZh7VtpWg9D_i89f5yrXo_JOkDk4VBT4Xkr44ng0glqNLgpS_9GKrD8EJvb7VbnmJNnsz1lSl7e0BqXKnT4_jx3M6j7l3vupUMG_W3oAHToT3H1E2jF7tlbcFxZHprVxRQ6VzhkTNPsKF1BQ3ypCStwv1LKLXKsu5PWhkhSLHBZzX8WxIXzdKElIFtr6uHbuwf-4gttTNvsUoZ9fp2LF_n8e1VYMfYo2JwF6SA.aUcA75v_1_fZkjO2Yhd5Ross-gv8OmjDNgYdShhiZVM&dib_tag=se&keywords=data+analyst+tshirts&qid=1719577052&sprefix=data+analyst+tshirts%2Caps%2C360&sr=8-6'\n",
    "\n",
    "    headers = {\"User-Agent\": \"Mozilla/5.0 (Macintosh; Intel Mac OS X 10_15_7) AppleWebKit/605.1.15 (KHTML, like Gecko) Version/17.5 Safari/605.1.15\", \"Accept-Encoding\":\"gzip, deflate, br\", \"Accept\":\"text/html,application/xhtml+xml,application/xml;q=0.9,*/*;q=0.8\", \"DNT\":\"1\",\"Connection\":\"close\", \"Upgrade-Insecure-Requests\":\"1\"}\n",
    "\n",
    "    page = requests.get(URL, headers=headers)\n",
    "    soup1 =BeautifulSoup(page.content, \"html.parser\")\n",
    "    soup2=BeautifulSoup(soup1.prettify(),\"html.parser\")\n",
    "    title=soup2.find(id='productTitle').get_text()\n",
    "    price=soup2.find(class_='a-offscreen').get_text()\n",
    "    import datetime\n",
    "    today = datetime.date.today()\n",
    "    import csv\n",
    "    header = ['Title','Price','Date']\n",
    "    data = [title,price,today]\n",
    "    with open('AmazonWebScraping.csv', 'a+', newline='', encoding='UTF8') as f:\n",
    "        writer = csv.writer(f)\n",
    "        writer.writerow(data)"
   ]
  },
  {
   "cell_type": "code",
   "execution_count": 91,
   "metadata": {},
   "outputs": [
    {
     "ename": "KeyboardInterrupt",
     "evalue": "",
     "output_type": "error",
     "traceback": [
      "\u001b[0;31m---------------------------------------------------------------------------\u001b[0m",
      "\u001b[0;31mKeyboardInterrupt\u001b[0m                         Traceback (most recent call last)",
      "Cell \u001b[0;32mIn[91], line 3\u001b[0m\n\u001b[1;32m      1\u001b[0m \u001b[38;5;28;01mwhile\u001b[39;00m(\u001b[38;5;28;01mTrue\u001b[39;00m):\n\u001b[1;32m      2\u001b[0m     check_price()\n\u001b[0;32m----> 3\u001b[0m     time\u001b[38;5;241m.\u001b[39msleep(\u001b[38;5;241m86400\u001b[39m)\n",
      "\u001b[0;31mKeyboardInterrupt\u001b[0m: "
     ]
    }
   ],
   "source": [
    "while(True):\n",
    "    check_price()\n",
    "    time.sleep(86400)"
   ]
  },
  {
   "cell_type": "code",
   "execution_count": null,
   "metadata": {},
   "outputs": [],
   "source": [
    "# sending mail\n",
    "def send_mail():\n",
    "    server = smtplib.SMTP_SSL('smtp.gmail.com',465)\n",
    "    server.ehlo()\n",
    "    #server.starttls()\n",
    "    server.ehlo()\n",
    "    server.login('yourmailgmail.com','xxxxxxxxxxxxxx')\n",
    "    \n",
    "    subject = \"The product is now available at your desired price\"\n",
    "    body = \"Now is your chance to pick up the prodect of your dreams. Don't mess it up! Link here:https://www.amazon.com/Data-Analyst-Programmer-Accountant-Distressed/dp/B0C1TH5NPM/ref=sr_1_6?crid=2SS3JXI1VNL4B&dib=eyJ2IjoiMSJ9.ZppBLSWPvPm5RFqNGsT3VfhBcongUeGPvHSQerFQ0GGGVm_AIHbu8EFDvhiDL7s7vOW1asZh7VtpWg9D_i89f5yrXo_JOkDk4VBT4Xkr44ng0glqNLgpS_9GKrD8EJvb7VbnmJNnsz1lSl7e0BqXKnT4_jx3M6j7l3vupUMG_W3oAHToT3H1E2jF7tlbcFxZHprVxRQ6VzhkTNPsKF1BQ3ypCStwv1LKLXKsu5PWhkhSLHBZzX8WxIXzdKElIFtr6uHbuwf-4gttTNvsUoZ9fp2LF_n8e1VYMfYo2JwF6SA.aUcA75v_1_fZkjO2Yhd5Ross-gv8OmjDNgYdShhiZVM&dib_tag=se&keywords=data+analyst+tshirts&qid=1719577052&sprefix=data+analyst+tshirts%2Caps%2C360&sr=8-6\n",
    "\n",
    "    msg = f\"Subject: {subject}\\n\\n{body}\"\n",
    "    \n",
    "    server.sendmail(\n",
    "        'yourmail@gmail.com',\n",
    "        msg\n",
    "     \n",
    "    )"
   ]
  }
 ],
 "metadata": {
  "language_info": {
   "name": "python"
  }
 },
 "nbformat": 4,
 "nbformat_minor": 2
}
